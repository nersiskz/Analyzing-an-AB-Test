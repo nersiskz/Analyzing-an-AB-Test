{
 "cells": [
  {
   "cell_type": "markdown",
   "id": "completed-class",
   "metadata": {},
   "source": [
    "# Analyzing an A/B Test"
   ]
  },
  {
   "cell_type": "markdown",
   "id": "fuzzy-jewelry",
   "metadata": {},
   "source": [
    "A company has been conducting an A/B Test with three different variants, they wants us analyze their results to make some important business decisions."
   ]
  },
  {
   "cell_type": "markdown",
   "id": "caroline-salem",
   "metadata": {},
   "source": [
    "They ran an A/B test with three different groups: A, B, and C.It has the following columns:\n",
    "\n",
    "- user_id: a unique id for each visitor to their site\n",
    "- group: either 'A', 'B', or 'C' depending on which group the visitor was assigned to\n",
    "- is_purchase: either 'Yes' if the visitor made a purchase or 'No' if they did not."
   ]
  },
  {
   "cell_type": "code",
   "execution_count": 1,
   "id": "peaceful-luther",
   "metadata": {},
   "outputs": [
    {
     "data": {
      "text/html": [
       "<div>\n",
       "<style scoped>\n",
       "    .dataframe tbody tr th:only-of-type {\n",
       "        vertical-align: middle;\n",
       "    }\n",
       "\n",
       "    .dataframe tbody tr th {\n",
       "        vertical-align: top;\n",
       "    }\n",
       "\n",
       "    .dataframe thead th {\n",
       "        text-align: right;\n",
       "    }\n",
       "</style>\n",
       "<table border=\"1\" class=\"dataframe\">\n",
       "  <thead>\n",
       "    <tr style=\"text-align: right;\">\n",
       "      <th></th>\n",
       "      <th>user_id</th>\n",
       "      <th>group</th>\n",
       "      <th>is_purchase</th>\n",
       "    </tr>\n",
       "  </thead>\n",
       "  <tbody>\n",
       "    <tr>\n",
       "      <th>0</th>\n",
       "      <td>8e27bf9a</td>\n",
       "      <td>A</td>\n",
       "      <td>No</td>\n",
       "    </tr>\n",
       "    <tr>\n",
       "      <th>1</th>\n",
       "      <td>eb89e6f0</td>\n",
       "      <td>A</td>\n",
       "      <td>No</td>\n",
       "    </tr>\n",
       "    <tr>\n",
       "      <th>2</th>\n",
       "      <td>7119106a</td>\n",
       "      <td>A</td>\n",
       "      <td>No</td>\n",
       "    </tr>\n",
       "    <tr>\n",
       "      <th>3</th>\n",
       "      <td>e53781ff</td>\n",
       "      <td>A</td>\n",
       "      <td>No</td>\n",
       "    </tr>\n",
       "    <tr>\n",
       "      <th>4</th>\n",
       "      <td>02d48cf1</td>\n",
       "      <td>A</td>\n",
       "      <td>Yes</td>\n",
       "    </tr>\n",
       "  </tbody>\n",
       "</table>\n",
       "</div>"
      ],
      "text/plain": [
       "    user_id group is_purchase\n",
       "0  8e27bf9a     A          No\n",
       "1  eb89e6f0     A          No\n",
       "2  7119106a     A          No\n",
       "3  e53781ff     A          No\n",
       "4  02d48cf1     A         Yes"
      ]
     },
     "execution_count": 1,
     "metadata": {},
     "output_type": "execute_result"
    }
   ],
   "source": [
    "import pandas as pd\n",
    "import numpy as np\n",
    "from scipy.stats import chi2_contingency\n",
    "from scipy.stats import binom_test\n",
    "\n",
    "abdata = pd.read_csv('clicks.csv')\n",
    "abdata.head()"
   ]
  },
  {
   "cell_type": "markdown",
   "id": "opposite-flower",
   "metadata": {},
   "source": [
    "Note that we have two categorical variables: group and is_purchase. We are interested in whether visitors are more likely to make a purchase if they are in any one group compared to the others. Because we want to know if there is an association between two categorical variables, we’ll start by using a Chi-Square test.\n",
    "\n",
    "In order to run a Chi-Square test, we first need to create a contingency table of the variables group and is_purchase."
   ]
  },
  {
   "cell_type": "code",
   "execution_count": 2,
   "id": "honest-polyester",
   "metadata": {},
   "outputs": [
    {
     "data": {
      "text/html": [
       "<div>\n",
       "<style scoped>\n",
       "    .dataframe tbody tr th:only-of-type {\n",
       "        vertical-align: middle;\n",
       "    }\n",
       "\n",
       "    .dataframe tbody tr th {\n",
       "        vertical-align: top;\n",
       "    }\n",
       "\n",
       "    .dataframe thead th {\n",
       "        text-align: right;\n",
       "    }\n",
       "</style>\n",
       "<table border=\"1\" class=\"dataframe\">\n",
       "  <thead>\n",
       "    <tr style=\"text-align: right;\">\n",
       "      <th>is_purchase</th>\n",
       "      <th>No</th>\n",
       "      <th>Yes</th>\n",
       "    </tr>\n",
       "    <tr>\n",
       "      <th>group</th>\n",
       "      <th></th>\n",
       "      <th></th>\n",
       "    </tr>\n",
       "  </thead>\n",
       "  <tbody>\n",
       "    <tr>\n",
       "      <th>A</th>\n",
       "      <td>1350</td>\n",
       "      <td>316</td>\n",
       "    </tr>\n",
       "    <tr>\n",
       "      <th>B</th>\n",
       "      <td>1483</td>\n",
       "      <td>183</td>\n",
       "    </tr>\n",
       "    <tr>\n",
       "      <th>C</th>\n",
       "      <td>1583</td>\n",
       "      <td>83</td>\n",
       "    </tr>\n",
       "  </tbody>\n",
       "</table>\n",
       "</div>"
      ],
      "text/plain": [
       "is_purchase    No  Yes\n",
       "group                 \n",
       "A            1350  316\n",
       "B            1483  183\n",
       "C            1583   83"
      ]
     },
     "execution_count": 2,
     "metadata": {},
     "output_type": "execute_result"
    }
   ],
   "source": [
    "Xtab = pd.crosstab(abdata.group, abdata.is_purchase)\n",
    "Xtab"
   ]
  },
  {
   "cell_type": "code",
   "execution_count": 3,
   "id": "binary-complaint",
   "metadata": {},
   "outputs": [
    {
     "name": "stdout",
     "output_type": "stream",
     "text": [
      "2.4126213546684264e-35\n"
     ]
    }
   ],
   "source": [
    "chi2, pval, dof, expected = chi2_contingency(Xtab)\n",
    "print(pval)"
   ]
  },
  {
   "cell_type": "markdown",
   "id": "worst-steps",
   "metadata": {},
   "source": [
    "After asking company about the test they were running we figure out:\n",
    "\n",
    "They were trying to get users to purchase a small upgrade package which they are not sure how much to charge for it, so they tested three different price points: 0.99 (group 'A'), 1.99 (group 'B'), and 4.99 (group 'C'). It looks like significantly more people bought the upgrade package for $0.99, so they guess that’s what they’ll charge.\n",
    "\n",
    "Now we know the Chi-Square wasn’t the right test at all. It’s true that more people wanted to purchase the upgrade at $0.99. What we really want to know is whether each price point allows us to make enough money that we can exceed some target goal. So we need to know, how much it cost to build this feature?\n",
    "\n",
    "We guess that we need to generate a minimum of $1000 in revenue per week in order to justify this project."
   ]
  },
  {
   "cell_type": "markdown",
   "id": "understood-superior",
   "metadata": {},
   "source": [
    "In order to justify this feature, we will need to calculate the necessary purchase rate for each price point. Let’s start by calculating the number of visitors to the site this week.\n",
    "\n",
    "As this test was run over the course of a week, so the number of visitors in abdata is equal to the number of visitors in a typical week."
   ]
  },
  {
   "cell_type": "code",
   "execution_count": 4,
   "id": "compressed-arkansas",
   "metadata": {},
   "outputs": [],
   "source": [
    "num_visits = len(abdata)"
   ]
  },
  {
   "cell_type": "markdown",
   "id": "reflected-lender",
   "metadata": {},
   "source": [
    "we need to calculate the number of visitors who would need to purchase the upgrade package at each price point (0.99, 1.99, 4.99) in order to generate minimum revenue target of $1,000 per week."
   ]
  },
  {
   "cell_type": "code",
   "execution_count": 6,
   "id": "headed-briefing",
   "metadata": {},
   "outputs": [],
   "source": [
    "# Calculate the purchase rate needed at 0.99\n",
    "num_sales_needed_099 = 1000/0.99"
   ]
  },
  {
   "cell_type": "markdown",
   "id": "printable-cross",
   "metadata": {},
   "source": [
    "Now that we know how many sales we need at a $0.99 price point, calculate the proportion of weekly visitors who would need to make a purchase in order to meet that goal."
   ]
  },
  {
   "cell_type": "code",
   "execution_count": 11,
   "id": "broke-alpha",
   "metadata": {},
   "outputs": [
    {
     "data": {
      "text/plain": [
       "0.20210104243717691"
      ]
     },
     "execution_count": 11,
     "metadata": {},
     "output_type": "execute_result"
    }
   ],
   "source": [
    "p_sales_needed_099 = num_sales_needed_099/num_visits\n",
    "p_sales_needed_099"
   ]
  },
  {
   "cell_type": "markdown",
   "id": "municipal-description",
   "metadata": {},
   "source": [
    "Repeat these steps for the other price points (1.99 and 4.99)"
   ]
  },
  {
   "cell_type": "code",
   "execution_count": 12,
   "id": "collectible-national",
   "metadata": {},
   "outputs": [
    {
     "data": {
      "text/plain": [
       "0.10054272965467594"
      ]
     },
     "execution_count": 12,
     "metadata": {},
     "output_type": "execute_result"
    }
   ],
   "source": [
    "# Calculate the purchase rate needed at 1.99\n",
    "num_sales_needed_199 = 1000/1.99\n",
    "p_sales_needed_199 = num_sales_needed_199/num_visits\n",
    "p_sales_needed_199"
   ]
  },
  {
   "cell_type": "code",
   "execution_count": 13,
   "id": "speaking-label",
   "metadata": {},
   "outputs": [
    {
     "data": {
      "text/plain": [
       "0.040096198800161346"
      ]
     },
     "execution_count": 13,
     "metadata": {},
     "output_type": "execute_result"
    }
   ],
   "source": [
    "# Calculate the purchase rate needed at 4.99\n",
    "num_sales_needed_499 = 1000/4.99\n",
    "p_sales_needed_499 = num_sales_needed_499/num_visits\n",
    "p_sales_needed_499"
   ]
  },
  {
   "cell_type": "markdown",
   "id": "protecting-hampton",
   "metadata": {},
   "source": [
    "As we see for higher price points, we’ll need to sell fewer upgrade packages in order to meet our minimum revenue target — so the proportions should decrease as the price points increase."
   ]
  },
  {
   "cell_type": "markdown",
   "id": "impaired-teacher",
   "metadata": {},
   "source": [
    "We want to know if the percent of Group A (the 0.99 price point) that purchased an upgrade package is significantly greater than p_sales_needed_099 (the percent of visitors who need to buy an upgrade package at 0.99 in order to make our minimum revenue target of 1,000).\n",
    "\n",
    "To answer this question, we want to focus on just the visitors in group A. Then, we want to compare the number of purchases in that group to p_sales_needed_099.\n",
    "\n",
    "Since we have a single sample of categorical data and want to compare it to a hypothetical population value, a binomial test is appropriate. In order to run a binomial test for group A, we need to know two pieces of information:\n",
    "\n",
    "- The number of visitors in group A (the number of visitors who were offered the $0.99 price point)\n",
    "- The number of visitors in Group A who made a purchase"
   ]
  },
  {
   "cell_type": "code",
   "execution_count": 20,
   "id": "magnetic-exposure",
   "metadata": {},
   "outputs": [
    {
     "name": "stdout",
     "output_type": "stream",
     "text": [
      "1666\n",
      "316\n"
     ]
    }
   ],
   "source": [
    "# Calculate samp size & sales for 0.99 price point\n",
    "samp_size_099 = np.sum(abdata.group == 'A')\n",
    "sales_099 = np.sum((abdata.group == 'A') & (abdata.is_purchase == 'Yes'))\n",
    "# Print samp size & sales for 0.99 price point\n",
    "print(samp_size_099)\n",
    "print(sales_099)"
   ]
  },
  {
   "cell_type": "code",
   "execution_count": 21,
   "id": "dirty-resident",
   "metadata": {},
   "outputs": [
    {
     "name": "stdout",
     "output_type": "stream",
     "text": [
      "1666\n",
      "183\n"
     ]
    }
   ],
   "source": [
    "# Calculate samp size & sales for 1.99 price point\n",
    "samp_size_199 = np.sum(abdata.group == 'B')\n",
    "sales_199 = np.sum((abdata.group == 'B') & (abdata.is_purchase == 'Yes'))\n",
    "# Print samp size & sales for 1.99 price point\n",
    "print(samp_size_199)\n",
    "print(sales_199)"
   ]
  },
  {
   "cell_type": "code",
   "execution_count": 24,
   "id": "charming-reynolds",
   "metadata": {},
   "outputs": [
    {
     "name": "stdout",
     "output_type": "stream",
     "text": [
      "1666\n",
      "83\n"
     ]
    }
   ],
   "source": [
    "# Calculate samp size & sales for 4.99 price point\n",
    "samp_size_499 = np.sum(abdata.group == 'C')\n",
    "sales_499 = np.sum((abdata.group == 'C') & (abdata.is_purchase == 'Yes'))\n",
    "# Print samp size & sales for 4.99 price point\n",
    "print(samp_size_499)\n",
    "print(sales_499)"
   ]
  },
  {
   "cell_type": "markdown",
   "id": "willing-submission",
   "metadata": {},
   "source": [
    "perform a binomial test using binom_test() to see if the observed purchase rate is significantly greater than p_sales_needed for each price"
   ]
  },
  {
   "cell_type": "code",
   "execution_count": 26,
   "id": "magnetic-restaurant",
   "metadata": {},
   "outputs": [
    {
     "name": "stdout",
     "output_type": "stream",
     "text": [
      "0.9028081076188985\n"
     ]
    }
   ],
   "source": [
    "# Calculate the p-value for Group A\n",
    "pvalueA = binom_test(sales_099, n=samp_size_099, p=p_sales_needed_099, alternative='greater')\n",
    "\n",
    "# Print the p-value for Group A\n",
    "print(pvalueA)"
   ]
  },
  {
   "cell_type": "code",
   "execution_count": 27,
   "id": "biological-logan",
   "metadata": {},
   "outputs": [
    {
     "name": "stdout",
     "output_type": "stream",
     "text": [
      "0.11184562623739903\n"
     ]
    }
   ],
   "source": [
    "# Calculate the p-value for Group B\n",
    "pvalueB = binom_test(sales_199, n=samp_size_199, p=p_sales_needed_199, alternative='greater')\n",
    "\n",
    "# Print the p-value for Group B\n",
    "print(pvalueB)"
   ]
  },
  {
   "cell_type": "code",
   "execution_count": 28,
   "id": "acute-authorization",
   "metadata": {},
   "outputs": [
    {
     "name": "stdout",
     "output_type": "stream",
     "text": [
      "0.027944826659907135\n"
     ]
    }
   ],
   "source": [
    "# Calculate the p-value for Group C\n",
    "pvalueC = binom_test(sales_499, n=samp_size_499, p=p_sales_needed_499, alternative='greater')\n",
    "\n",
    "# Print the p-value for Group C\n",
    "print(pvalueC)"
   ]
  },
  {
   "cell_type": "markdown",
   "id": "biblical-cedar",
   "metadata": {},
   "source": [
    "pvalueC is the only p-value below the threshold of 0.05. Therefore, the C group is the only group where we would conclude that the purchase rate is significantly higher than the target needed to reach 1000 revenue per week. Therefore, the company should charge $4.99 for the upgrade."
   ]
  },
  {
   "cell_type": "code",
   "execution_count": 30,
   "id": "reverse-surface",
   "metadata": {},
   "outputs": [
    {
     "name": "stdout",
     "output_type": "stream",
     "text": [
      "4.99\n"
     ]
    }
   ],
   "source": [
    "# Set the correct value for the final answer variable\n",
    "final_answer = '4.99'\n",
    "\n",
    "# Print the chosen price group\n",
    "print(final_answer)"
   ]
  }
 ],
 "metadata": {
  "kernelspec": {
   "display_name": "Python 3",
   "language": "python",
   "name": "python3"
  },
  "language_info": {
   "codemirror_mode": {
    "name": "ipython",
    "version": 3
   },
   "file_extension": ".py",
   "mimetype": "text/x-python",
   "name": "python",
   "nbconvert_exporter": "python",
   "pygments_lexer": "ipython3",
   "version": "3.9.1"
  }
 },
 "nbformat": 4,
 "nbformat_minor": 5
}
